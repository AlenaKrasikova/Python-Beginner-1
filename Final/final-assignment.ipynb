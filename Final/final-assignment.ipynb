{
 "cells": [
  {
   "cell_type": "markdown",
   "id": "460cf33f-0b9d-44ce-bce8-2da8f37d25ce",
   "metadata": {},
   "source": [
    "# Geo-Python 2024: Итоговое задание"
   ]
  },
  {
   "cell_type": "markdown",
   "id": "5b2b9ec7-b3de-4bc5-8d00-ced114579533",
   "metadata": {},
   "source": [
    "**Исходные данные**: погодные данные дневных температур с января 1908 года по октябрь 2020 года с метеостанции Сондакюла, расположенной в северной части Финляндии.\n",
    "\n",
    "**Цель**: осуществить расчёт и визуализацию сезонных температур из набора данных за 1993 год.\n",
    "    \n",
    "**Задача**: рассчитать средние температуры за зиму, весну, лето и осень за 1993 год, а также вывести график годовой температуры.\n",
    "    \n",
    "**Алгоритм реализации задачи**:\n",
    "1. Прочесть данный файл с помощью pandas и преобразовать отсутствующие значения в NA.\n",
    "2. Заменить значения NA в колонке `TAVG` рассчитанными осреднёнными значениями дневной температуры. Допускается удаление значений, которые будут отсутствовать даже после этой операции.\n",
    "3. Задать и использовать функцию преобразования температур `TAVG`, `TMAX` и `TMIN` из Фаренгейта в Цельсии, сохранив конвертированные значения в новые колонки. **Важно** не перезаписывать существующие значения! Конвертацию произвести по следующей формуле:\n",
    "\n",
    "$$\n",
    "\\Large\n",
    "\\begin{equation}\n",
    "  T_{\\mathrm{Celsius}} = (T_{\\mathrm{Fahrenheit}} - 32)~/~1.8\n",
    "\\end{equation}\n",
    "$$\n",
    "\n",
    "4. Выбрать данные по четырём сезонам за 1993 год и записать их в переменные `temps_winter`, `temps_spring`, `temps_summer` и `temps_autumn`.  \n",
    "\n",
    "    - Сезоны должны включать следующие месяцы:\n",
    "\n",
    "        - Зима: декабрь, январь, февраль\n",
    "        - Весна: март, апрель, май\n",
    "        - Лето: июнь, июль, август\n",
    "        - Осень: сентябрь, октябрь, ноябрь\n",
    "\n",
    "5. Рассчитать среднюю температуру за каждый сезон и вывести значения на экран, округлив до целого числа.\n",
    "6. Построить график(и) температур за каждый сезон."
   ]
  },
  {
   "cell_type": "code",
   "execution_count": 1,
   "id": "1d2d7e38-1720-4dc7-b9a4-4c5aa4bcf380",
   "metadata": {},
   "outputs": [],
   "source": [
    "# Импорт библиотеки pandas\n",
    "import pandas as pd\n",
    "# Импорт библиотеки matplotlib для визуализации данных\n",
    "import matplotlib.pyplot as plt \n",
    "# Загрузка данных из файла data (6153237444115dat.csv)\n",
    "data = pd.read_csv('Final/data/2315676.txt' \n",
    "                   , sep='\\s+'\n",
    "                   , na_values=[-9999]\n",
    "                   , parse_dates=['DATE']\n",
    "                   , date_format='%Y%m%d'\n",
    "                   #, index_col=\"DATE\"\n",
    "                   , skiprows=[1])"
   ]
  },
  {
   "cell_type": "code",
   "execution_count": 2,
   "id": "e80ece26-4997-4f9f-a4b2-2e15be188106",
   "metadata": {},
   "outputs": [
    {
     "data": {
      "text/html": [
       "<div>\n",
       "<style scoped>\n",
       "    .dataframe tbody tr th:only-of-type {\n",
       "        vertical-align: middle;\n",
       "    }\n",
       "\n",
       "    .dataframe tbody tr th {\n",
       "        vertical-align: top;\n",
       "    }\n",
       "\n",
       "    .dataframe thead th {\n",
       "        text-align: right;\n",
       "    }\n",
       "</style>\n",
       "<table border=\"1\" class=\"dataframe\">\n",
       "  <thead>\n",
       "    <tr style=\"text-align: right;\">\n",
       "      <th></th>\n",
       "      <th>STATION</th>\n",
       "      <th>STATION_NAME</th>\n",
       "      <th>DATE</th>\n",
       "      <th>TAVG</th>\n",
       "      <th>TMAX</th>\n",
       "      <th>TMIN</th>\n",
       "    </tr>\n",
       "  </thead>\n",
       "  <tbody>\n",
       "    <tr>\n",
       "      <th>0</th>\n",
       "      <td>GHCND:FI000007501</td>\n",
       "      <td>SODANKYLA-AWS-FI</td>\n",
       "      <td>1908-01-01</td>\n",
       "      <td>NaN</td>\n",
       "      <td>2.0</td>\n",
       "      <td>-37.0</td>\n",
       "    </tr>\n",
       "    <tr>\n",
       "      <th>1</th>\n",
       "      <td>GHCND:FI000007501</td>\n",
       "      <td>SODANKYLA-AWS-FI</td>\n",
       "      <td>1908-01-02</td>\n",
       "      <td>NaN</td>\n",
       "      <td>6.0</td>\n",
       "      <td>-26.0</td>\n",
       "    </tr>\n",
       "    <tr>\n",
       "      <th>2</th>\n",
       "      <td>GHCND:FI000007501</td>\n",
       "      <td>SODANKYLA-AWS-FI</td>\n",
       "      <td>1908-01-03</td>\n",
       "      <td>NaN</td>\n",
       "      <td>7.0</td>\n",
       "      <td>-27.0</td>\n",
       "    </tr>\n",
       "    <tr>\n",
       "      <th>3</th>\n",
       "      <td>GHCND:FI000007501</td>\n",
       "      <td>SODANKYLA-AWS-FI</td>\n",
       "      <td>1908-01-04</td>\n",
       "      <td>NaN</td>\n",
       "      <td>-3.0</td>\n",
       "      <td>-27.0</td>\n",
       "    </tr>\n",
       "    <tr>\n",
       "      <th>4</th>\n",
       "      <td>GHCND:FI000007501</td>\n",
       "      <td>SODANKYLA-AWS-FI</td>\n",
       "      <td>1908-01-05</td>\n",
       "      <td>NaN</td>\n",
       "      <td>4.0</td>\n",
       "      <td>-36.0</td>\n",
       "    </tr>\n",
       "  </tbody>\n",
       "</table>\n",
       "</div>"
      ],
      "text/plain": [
       "             STATION      STATION_NAME       DATE  TAVG  TMAX  TMIN\n",
       "0  GHCND:FI000007501  SODANKYLA-AWS-FI 1908-01-01   NaN   2.0 -37.0\n",
       "1  GHCND:FI000007501  SODANKYLA-AWS-FI 1908-01-02   NaN   6.0 -26.0\n",
       "2  GHCND:FI000007501  SODANKYLA-AWS-FI 1908-01-03   NaN   7.0 -27.0\n",
       "3  GHCND:FI000007501  SODANKYLA-AWS-FI 1908-01-04   NaN  -3.0 -27.0\n",
       "4  GHCND:FI000007501  SODANKYLA-AWS-FI 1908-01-05   NaN   4.0 -36.0"
      ]
     },
     "execution_count": 2,
     "metadata": {},
     "output_type": "execute_result"
    }
   ],
   "source": [
    "# Вызов 5 первых строк DataFrame\n",
    "data.head()"
   ]
  },
  {
   "cell_type": "code",
   "execution_count": 3,
   "id": "1827f64c-b0a8-462b-aa87-fdb8321a42e3",
   "metadata": {},
   "outputs": [],
   "source": [
    "# Замена отсутствующих значений в колонке TAVG на основе колонок TMAX и TMIN\n",
    "data['TAVG'] = data['TAVG'].fillna((data['TMAX'] + data['TMIN'])/2)"
   ]
  },
  {
   "cell_type": "code",
   "execution_count": 4,
   "id": "37261d42-b1d2-446f-9c5b-2d87d0caa213",
   "metadata": {},
   "outputs": [
    {
     "name": "stdout",
     "output_type": "stream",
     "text": [
      "<class 'pandas.core.frame.DataFrame'>\n",
      "RangeIndex: 41065 entries, 0 to 41064\n",
      "Data columns (total 6 columns):\n",
      " #   Column        Non-Null Count  Dtype         \n",
      "---  ------        --------------  -----         \n",
      " 0   STATION       41065 non-null  object        \n",
      " 1   STATION_NAME  41065 non-null  object        \n",
      " 2   DATE          41065 non-null  datetime64[ns]\n",
      " 3   TAVG          40882 non-null  float64       \n",
      " 4   TMAX          40296 non-null  float64       \n",
      " 5   TMIN          39119 non-null  float64       \n",
      "dtypes: datetime64[ns](1), float64(3), object(2)\n",
      "memory usage: 1.9+ MB\n"
     ]
    }
   ],
   "source": [
    "# Проверка данных методом info()\n",
    "data.info()"
   ]
  },
  {
   "cell_type": "code",
   "execution_count": 5,
   "id": "c783ef67-798d-4723-944e-9f11580998ad",
   "metadata": {},
   "outputs": [
    {
     "data": {
      "text/html": [
       "<div>\n",
       "<style scoped>\n",
       "    .dataframe tbody tr th:only-of-type {\n",
       "        vertical-align: middle;\n",
       "    }\n",
       "\n",
       "    .dataframe tbody tr th {\n",
       "        vertical-align: top;\n",
       "    }\n",
       "\n",
       "    .dataframe thead th {\n",
       "        text-align: right;\n",
       "    }\n",
       "</style>\n",
       "<table border=\"1\" class=\"dataframe\">\n",
       "  <thead>\n",
       "    <tr style=\"text-align: right;\">\n",
       "      <th></th>\n",
       "      <th>DATE</th>\n",
       "      <th>TAVG</th>\n",
       "      <th>TMAX</th>\n",
       "      <th>TMIN</th>\n",
       "    </tr>\n",
       "  </thead>\n",
       "  <tbody>\n",
       "    <tr>\n",
       "      <th>count</th>\n",
       "      <td>41065</td>\n",
       "      <td>40882.000000</td>\n",
       "      <td>40296.000000</td>\n",
       "      <td>39119.000000</td>\n",
       "    </tr>\n",
       "    <tr>\n",
       "      <th>mean</th>\n",
       "      <td>1964-05-23 03:16:58.064044768</td>\n",
       "      <td>30.878675</td>\n",
       "      <td>39.034296</td>\n",
       "      <td>22.315985</td>\n",
       "    </tr>\n",
       "    <tr>\n",
       "      <th>min</th>\n",
       "      <td>1908-01-01 00:00:00</td>\n",
       "      <td>-53.000000</td>\n",
       "      <td>-47.000000</td>\n",
       "      <td>-57.000000</td>\n",
       "    </tr>\n",
       "    <tr>\n",
       "      <th>25%</th>\n",
       "      <td>1936-03-05 00:00:00</td>\n",
       "      <td>17.500000</td>\n",
       "      <td>26.000000</td>\n",
       "      <td>9.000000</td>\n",
       "    </tr>\n",
       "    <tr>\n",
       "      <th>50%</th>\n",
       "      <td>1964-06-11 00:00:00</td>\n",
       "      <td>32.500000</td>\n",
       "      <td>38.000000</td>\n",
       "      <td>27.000000</td>\n",
       "    </tr>\n",
       "    <tr>\n",
       "      <th>75%</th>\n",
       "      <td>1992-07-20 00:00:00</td>\n",
       "      <td>47.000000</td>\n",
       "      <td>55.000000</td>\n",
       "      <td>39.000000</td>\n",
       "    </tr>\n",
       "    <tr>\n",
       "      <th>max</th>\n",
       "      <td>2020-10-07 00:00:00</td>\n",
       "      <td>78.000000</td>\n",
       "      <td>90.000000</td>\n",
       "      <td>67.000000</td>\n",
       "    </tr>\n",
       "    <tr>\n",
       "      <th>std</th>\n",
       "      <td>NaN</td>\n",
       "      <td>20.910897</td>\n",
       "      <td>20.905912</td>\n",
       "      <td>22.187090</td>\n",
       "    </tr>\n",
       "  </tbody>\n",
       "</table>\n",
       "</div>"
      ],
      "text/plain": [
       "                                DATE          TAVG          TMAX          TMIN\n",
       "count                          41065  40882.000000  40296.000000  39119.000000\n",
       "mean   1964-05-23 03:16:58.064044768     30.878675     39.034296     22.315985\n",
       "min              1908-01-01 00:00:00    -53.000000    -47.000000    -57.000000\n",
       "25%              1936-03-05 00:00:00     17.500000     26.000000      9.000000\n",
       "50%              1964-06-11 00:00:00     32.500000     38.000000     27.000000\n",
       "75%              1992-07-20 00:00:00     47.000000     55.000000     39.000000\n",
       "max              2020-10-07 00:00:00     78.000000     90.000000     67.000000\n",
       "std                              NaN     20.910897     20.905912     22.187090"
      ]
     },
     "execution_count": 5,
     "metadata": {},
     "output_type": "execute_result"
    }
   ],
   "source": [
    "# Получение сводки числовых значений датасета\n",
    "data.describe()"
   ]
  },
  {
   "cell_type": "code",
   "execution_count": 6,
   "id": "d39b3ad5-43b9-4ad1-ade1-cf06a881b0c4",
   "metadata": {},
   "outputs": [
    {
     "data": {
      "text/plain": [
       "183"
      ]
     },
     "execution_count": 6,
     "metadata": {},
     "output_type": "execute_result"
    }
   ],
   "source": [
    "# Подсчёт пропусков\n",
    "data['TAVG'].isna().sum() "
   ]
  },
  {
   "cell_type": "code",
   "execution_count": 7,
   "id": "3c72c0b4-40fe-4d4e-a4ac-bb89de5c450f",
   "metadata": {},
   "outputs": [
    {
     "data": {
      "text/html": [
       "<div>\n",
       "<style scoped>\n",
       "    .dataframe tbody tr th:only-of-type {\n",
       "        vertical-align: middle;\n",
       "    }\n",
       "\n",
       "    .dataframe tbody tr th {\n",
       "        vertical-align: top;\n",
       "    }\n",
       "\n",
       "    .dataframe thead th {\n",
       "        text-align: right;\n",
       "    }\n",
       "</style>\n",
       "<table border=\"1\" class=\"dataframe\">\n",
       "  <thead>\n",
       "    <tr style=\"text-align: right;\">\n",
       "      <th></th>\n",
       "      <th>STATION</th>\n",
       "      <th>STATION_NAME</th>\n",
       "      <th>DATE</th>\n",
       "      <th>TAVG</th>\n",
       "      <th>TMAX</th>\n",
       "      <th>TMIN</th>\n",
       "    </tr>\n",
       "  </thead>\n",
       "  <tbody>\n",
       "    <tr>\n",
       "      <th>12</th>\n",
       "      <td>GHCND:FI000007501</td>\n",
       "      <td>SODANKYLA-AWS-FI</td>\n",
       "      <td>1908-01-13</td>\n",
       "      <td>NaN</td>\n",
       "      <td>25.0</td>\n",
       "      <td>NaN</td>\n",
       "    </tr>\n",
       "    <tr>\n",
       "      <th>13</th>\n",
       "      <td>GHCND:FI000007501</td>\n",
       "      <td>SODANKYLA-AWS-FI</td>\n",
       "      <td>1908-01-14</td>\n",
       "      <td>NaN</td>\n",
       "      <td>26.0</td>\n",
       "      <td>NaN</td>\n",
       "    </tr>\n",
       "    <tr>\n",
       "      <th>36</th>\n",
       "      <td>GHCND:FI000007501</td>\n",
       "      <td>SODANKYLA-AWS-FI</td>\n",
       "      <td>1908-02-06</td>\n",
       "      <td>NaN</td>\n",
       "      <td>31.0</td>\n",
       "      <td>NaN</td>\n",
       "    </tr>\n",
       "    <tr>\n",
       "      <th>46</th>\n",
       "      <td>GHCND:FI000007501</td>\n",
       "      <td>SODANKYLA-AWS-FI</td>\n",
       "      <td>1908-02-16</td>\n",
       "      <td>NaN</td>\n",
       "      <td>15.0</td>\n",
       "      <td>NaN</td>\n",
       "    </tr>\n",
       "    <tr>\n",
       "      <th>62</th>\n",
       "      <td>GHCND:FI000007501</td>\n",
       "      <td>SODANKYLA-AWS-FI</td>\n",
       "      <td>1908-03-03</td>\n",
       "      <td>NaN</td>\n",
       "      <td>24.0</td>\n",
       "      <td>NaN</td>\n",
       "    </tr>\n",
       "    <tr>\n",
       "      <th>...</th>\n",
       "      <td>...</td>\n",
       "      <td>...</td>\n",
       "      <td>...</td>\n",
       "      <td>...</td>\n",
       "      <td>...</td>\n",
       "      <td>...</td>\n",
       "    </tr>\n",
       "    <tr>\n",
       "      <th>7216</th>\n",
       "      <td>GHCND:FI000007501</td>\n",
       "      <td>SODANKYLA-AWS-FI</td>\n",
       "      <td>1927-10-29</td>\n",
       "      <td>NaN</td>\n",
       "      <td>NaN</td>\n",
       "      <td>-14.0</td>\n",
       "    </tr>\n",
       "    <tr>\n",
       "      <th>8356</th>\n",
       "      <td>GHCND:FI000007501</td>\n",
       "      <td>SODANKYLA-AWS-FI</td>\n",
       "      <td>1930-12-12</td>\n",
       "      <td>NaN</td>\n",
       "      <td>15.0</td>\n",
       "      <td>NaN</td>\n",
       "    </tr>\n",
       "    <tr>\n",
       "      <th>9044</th>\n",
       "      <td>GHCND:FI000007501</td>\n",
       "      <td>SODANKYLA-AWS-FI</td>\n",
       "      <td>1932-10-30</td>\n",
       "      <td>NaN</td>\n",
       "      <td>NaN</td>\n",
       "      <td>-8.0</td>\n",
       "    </tr>\n",
       "    <tr>\n",
       "      <th>13382</th>\n",
       "      <td>GHCND:FI000007501</td>\n",
       "      <td>SODANKYLA-AWS-FI</td>\n",
       "      <td>1944-09-15</td>\n",
       "      <td>NaN</td>\n",
       "      <td>NaN</td>\n",
       "      <td>43.0</td>\n",
       "    </tr>\n",
       "    <tr>\n",
       "      <th>22097</th>\n",
       "      <td>GHCND:FI000007501</td>\n",
       "      <td>SODANKYLA-AWS-FI</td>\n",
       "      <td>1968-09-23</td>\n",
       "      <td>NaN</td>\n",
       "      <td>33.0</td>\n",
       "      <td>NaN</td>\n",
       "    </tr>\n",
       "  </tbody>\n",
       "</table>\n",
       "<p>183 rows × 6 columns</p>\n",
       "</div>"
      ],
      "text/plain": [
       "                 STATION      STATION_NAME       DATE  TAVG  TMAX  TMIN\n",
       "12     GHCND:FI000007501  SODANKYLA-AWS-FI 1908-01-13   NaN  25.0   NaN\n",
       "13     GHCND:FI000007501  SODANKYLA-AWS-FI 1908-01-14   NaN  26.0   NaN\n",
       "36     GHCND:FI000007501  SODANKYLA-AWS-FI 1908-02-06   NaN  31.0   NaN\n",
       "46     GHCND:FI000007501  SODANKYLA-AWS-FI 1908-02-16   NaN  15.0   NaN\n",
       "62     GHCND:FI000007501  SODANKYLA-AWS-FI 1908-03-03   NaN  24.0   NaN\n",
       "...                  ...               ...        ...   ...   ...   ...\n",
       "7216   GHCND:FI000007501  SODANKYLA-AWS-FI 1927-10-29   NaN   NaN -14.0\n",
       "8356   GHCND:FI000007501  SODANKYLA-AWS-FI 1930-12-12   NaN  15.0   NaN\n",
       "9044   GHCND:FI000007501  SODANKYLA-AWS-FI 1932-10-30   NaN   NaN  -8.0\n",
       "13382  GHCND:FI000007501  SODANKYLA-AWS-FI 1944-09-15   NaN   NaN  43.0\n",
       "22097  GHCND:FI000007501  SODANKYLA-AWS-FI 1968-09-23   NaN  33.0   NaN\n",
       "\n",
       "[183 rows x 6 columns]"
      ]
     },
     "execution_count": 7,
     "metadata": {},
     "output_type": "execute_result"
    }
   ],
   "source": [
    "# Срез данных с пропущенными значениями\n",
    "data.loc[data['TAVG'].isna()]"
   ]
  },
  {
   "cell_type": "code",
   "execution_count": 8,
   "id": "d6317dae-c422-4c9e-b25b-2d3b1c2e11d7",
   "metadata": {},
   "outputs": [],
   "source": [
    "# Удаление строк, которые не имеют данных в колонке TAVG\n",
    "data = data.dropna(subset = ['TAVG'])"
   ]
  },
  {
   "cell_type": "code",
   "execution_count": 9,
   "id": "906bfda0-dc9c-49ba-bdc6-f30d560b03d7",
   "metadata": {},
   "outputs": [
    {
     "name": "stdout",
     "output_type": "stream",
     "text": [
      "<class 'pandas.core.frame.DataFrame'>\n",
      "Index: 40882 entries, 0 to 41064\n",
      "Data columns (total 6 columns):\n",
      " #   Column        Non-Null Count  Dtype         \n",
      "---  ------        --------------  -----         \n",
      " 0   STATION       40882 non-null  object        \n",
      " 1   STATION_NAME  40882 non-null  object        \n",
      " 2   DATE          40882 non-null  datetime64[ns]\n",
      " 3   TAVG          40882 non-null  float64       \n",
      " 4   TMAX          40206 non-null  float64       \n",
      " 5   TMIN          39026 non-null  float64       \n",
      "dtypes: datetime64[ns](1), float64(3), object(2)\n",
      "memory usage: 2.2+ MB\n"
     ]
    }
   ],
   "source": [
    "# Проверка данных методом info()\n",
    "data.info()"
   ]
  },
  {
   "cell_type": "code",
   "execution_count": 10,
   "id": "4285788c-cca1-4e43-a3c9-324cab3f0aa5",
   "metadata": {},
   "outputs": [],
   "source": [
    "# Функция преобразования температуры из Фаренгейта в Цельсий\n",
    "def fahr_to_celsius(temp_fahrenheit):\n",
    "    converted_temp = round((temp_fahrenheit - 32) / 1.8,1)\n",
    "    return converted_temp"
   ]
  },
  {
   "cell_type": "code",
   "execution_count": 11,
   "id": "0e875c35-8578-4d3b-9808-92bb90e5885d",
   "metadata": {},
   "outputs": [],
   "source": [
    "# Расчет значений в Цельсиях с использованием метода apply и функции конвертации\n",
    "data['TAVG_°C'] = data['TAVG'].apply(fahr_to_celsius)\n",
    "data['TMAX_°C'] = data['TMAX'].apply(fahr_to_celsius)\n",
    "data['TMIN_°C'] = data['TMIN'].apply(fahr_to_celsius)"
   ]
  },
  {
   "cell_type": "code",
   "execution_count": 12,
   "id": "f5bd72a0-5d83-423d-bb7b-f15fbcb260a1",
   "metadata": {},
   "outputs": [],
   "source": [
    "# Выбор данных по четырём сезонам за 1993 год с помощью методов loc() и between()\n",
    "temps_winter = data.loc[data['DATE'].between ('1992-12-01','1993-02-28')]\n",
    "temps_spring = data.loc[data['DATE'].between ('1993-03-01','1993-05-31')]\n",
    "temps_summer = data.loc[data['DATE'].between ('1993-06-01','1993-08-31')]\n",
    "temps_autumn = data.loc[data['DATE'].between ('1993-09-01','1993-11-30')]"
   ]
  },
  {
   "cell_type": "code",
   "execution_count": 13,
   "id": "2d51b731-e2d5-4aff-98ad-060559a9bf4a",
   "metadata": {},
   "outputs": [
    {
     "name": "stdout",
     "output_type": "stream",
     "text": [
      "Средняя зимняя температура в 1993 году: -8\n",
      "Средняя весенняя температура в 1993 году: -1\n",
      "Средняя летняя температура в 1993 году: 11\n",
      "Средняя осенняя температура в 1993 году: -2\n"
     ]
    }
   ],
   "source": [
    "# Рассчет средних температур за каждый сезон 1993 г.\n",
    "mean_winter = temps_winter['TAVG_°C'].mean()\n",
    "mean_spring = temps_spring['TAVG_°C'].mean()\n",
    "mean_summer = temps_summer['TAVG_°C'].mean()\n",
    "mean_autumn = temps_autumn['TAVG_°C'].mean()\n",
    "\n",
    "# Вывод результатов\n",
    "print(f\"Средняя зимняя температура в 1993 году: {mean_winter:2.0f}\")\n",
    "print(f\"Средняя весенняя температура в 1993 году: {mean_spring:2.0f}\")\n",
    "print(f\"Средняя летняя температура в 1993 году: {mean_summer:2.0f}\")\n",
    "print(f\"Средняя осенняя температура в 1993 году: {mean_autumn:2.0f}\")"
   ]
  },
  {
   "cell_type": "code",
   "execution_count": 14,
   "id": "8af35876-3736-48d4-aecd-57c11a12e74f",
   "metadata": {},
   "outputs": [],
   "source": [
    "# Перевод временных значений в индекс для отображения на графиках\n",
    "temps_winter = temps_winter.set_index('DATE')\n",
    "temps_spring = temps_spring.set_index('DATE')\n",
    "temps_summer = temps_summer.set_index('DATE')\n",
    "temps_autumn = temps_autumn.set_index('DATE')"
   ]
  },
  {
   "cell_type": "code",
   "execution_count": 15,
   "id": "581f66da-b217-4a04-84e5-8366f8d4cc03",
   "metadata": {},
   "outputs": [
    {
     "data": {
      "text/plain": [
       "Text(0.5, 1.0, 'График температур за каждый сезон 1993 г.')"
      ]
     },
     "execution_count": 15,
     "metadata": {},
     "output_type": "execute_result"
    },
    {
     "data": {
      "image/png": "[encoded data removed]",
      "text/plain": [
       "<Figure size 640x480 with 1 Axes>"
      ]
     },
     "metadata": {},
     "output_type": "display_data"
    }
   ],
   "source": [
    "#График температур за каждый сезон 1993 г.\n",
    "temps_winter['TAVG_°C'].plot(ylabel = 'TAVG_°C')\n",
    "temps_spring['TAVG_°C'].plot(ylabel = 'TAVG_°C')\n",
    "temps_summer['TAVG_°C'].plot(ylabel = 'TAVG_°C')\n",
    "temps_autumn['TAVG_°C'].plot(ylabel = 'TAVG_°C')\n",
    "plt.title('График температур по сезонам 1993 г.')"
   ]
  }
 ],
 "metadata": {
  "kernelspec": {
   "display_name": "Python 3 (ipykernel)",
   "language": "python",
   "name": "python3"
  },
  "language_info": {
   "codemirror_mode": {
    "name": "ipython",
    "version": 3
   },
   "file_extension": ".py",
   "mimetype": "text/x-python",
   "name": "python",
   "nbconvert_exporter": "python",
   "pygments_lexer": "ipython3",
   "version": "3.8.19"
  }
 },
 "nbformat": 4,
 "nbformat_minor": 5
}
