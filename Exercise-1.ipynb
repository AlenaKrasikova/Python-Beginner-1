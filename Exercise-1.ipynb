{
 "cells": [
  {
   "cell_type": "markdown",
   "id": "08139f7f-eff8-4027-a6e9-4d94e5a3de2d",
   "metadata": {},
   "source": [
    "### Упражениение 1. Пробуем Python на вкус"
   ]
  },
  {
   "cell_type": "markdown",
   "id": "c373dfc4-2238-4430-ac9a-a3bc051408d5",
   "metadata": {},
   "source": [
    "#### Задача 1. Создание собственного блокнота Jupyter"
   ]
  },
  {
   "cell_type": "markdown",
   "id": "c288288d-4f38-4a39-872e-08f16d8f442c",
   "metadata": {},
   "source": [
    "#### Задача 2. Определение числовых переменных"
   ]
  },
  {
   "cell_type": "code",
   "execution_count": 1,
   "id": "e5871947-333d-4871-9122-4e8d0566298e",
   "metadata": {
    "tags": []
   },
   "outputs": [],
   "source": [
    "ice_cream_rating = 5\n",
    "sleep_rating = 9"
   ]
  },
  {
   "cell_type": "markdown",
   "id": "42ca9b67-ef54-4e2b-bf07-e138ed86a70d",
   "metadata": {},
   "source": [
    "#### Задача 3. Определение некоторых переменных символьной строки"
   ]
  },
  {
   "cell_type": "code",
   "execution_count": 2,
   "id": "5d338345-c5a6-4d1f-bd08-520f1eb530fe",
   "metadata": {
    "tags": []
   },
   "outputs": [],
   "source": [
    "first_name = 'Алёна'\n",
    "last_name = 'Красикова'\n",
    "my_name = f\"{first_name} {last_name}\""
   ]
  },
  {
   "cell_type": "markdown",
   "id": "e4f646d0-4fd7-4557-811a-0d4a3cc21f58",
   "metadata": {},
   "source": [
    "#### Задача 4. Немного математики"
   ]
  },
  {
   "cell_type": "code",
   "execution_count": 5,
   "id": "9e80e4b9-ec82-480a-9f08-073ce4e31a35",
   "metadata": {
    "tags": []
   },
   "outputs": [],
   "source": [
    "happiness_rating = (ice_cream_rating + sleep_rating)/2"
   ]
  },
  {
   "cell_type": "markdown",
   "id": "107dd12e-eb97-4cc0-bae1-461a492a4852",
   "metadata": {
    "tags": []
   },
   "source": [
    "#### Задача 5. Проверка типов данных"
   ]
  },
  {
   "cell_type": "code",
   "execution_count": 7,
   "id": "b706555a-4a94-43be-b861-e69ca00efc46",
   "metadata": {
    "tags": []
   },
   "outputs": [
    {
     "name": "stdout",
     "output_type": "stream",
     "text": [
      "<class 'int'>\n",
      "<class 'str'>\n",
      "<class 'float'>\n"
     ]
    }
   ],
   "source": [
    "print(type(ice_cream_rating))\n",
    "print(type(first_name))\n",
    "print(type(happiness_rating))"
   ]
  },
  {
   "cell_type": "markdown",
   "id": "503186d1-3c11-4c96-8937-38f7d110bf9b",
   "metadata": {
    "tags": []
   },
   "source": [
    "    Вопрос: Все ли типы данных имели смысл? \n",
    "    Ответ: Да, все типы данных имеют смысл.\n",
    "    \n",
    "    Вопрос: Были ли какие-либо типы данных, которые отличались от ваших ожиданий? - \n",
    "    Ответ: Нет, ice_cream_rating и first_name соответсвуют условиям выше, happiness_rating обоснованно имеет тип float, так как среднее значение может быть дробным числом."
   ]
  },
  {
   "cell_type": "markdown",
   "id": "c16bdcd7-8349-4ad1-a4af-f946df244d53",
   "metadata": {},
   "source": [
    "#### Задача 6. Отображение текста на экране"
   ]
  },
  {
   "cell_type": "code",
   "execution_count": 23,
   "id": "f8d68af2-b592-45df-bbbe-c72e60de71cf",
   "metadata": {
    "tags": []
   },
   "outputs": [
    {
     "name": "stdout",
     "output_type": "stream",
     "text": [
      "Меня зовут Алёна, и я ставлю мороженому 5 баллов из 10!\n",
      "Я Алёна Красикова, и мой рейтинг удовольствия от сна — 9 из 10!\n",
      "Исходя из вышеперечисленных факторов, мой рейтинг счастья составляет 7.0 из 10, или 70.0%!\n"
     ]
    }
   ],
   "source": [
    "print(f\"Меня зовут {first_name}, и я ставлю мороженому {ice_cream_rating} баллов из 10!\\n\\\n",
    "Я {my_name}, и мой рейтинг удовольствия от сна — {sleep_rating} из 10!\\n\\\n",
    "Исходя из вышеперечисленных факторов, мой рейтинг счастья составляет {happiness_rating} из 10, или {happiness_rating/10:.1%}!\")"
   ]
  }
 ],
 "metadata": {
  "kernelspec": {
   "display_name": "Python 3 (ipykernel)",
   "language": "python",
   "name": "python3"
  },
  "language_info": {
   "codemirror_mode": {
    "name": "ipython",
    "version": 3
   },
   "file_extension": ".py",
   "mimetype": "text/x-python",
   "name": "python",
   "nbconvert_exporter": "python",
   "pygments_lexer": "ipython3",
   "version": "3.8.19"
  }
 },
 "nbformat": 4,
 "nbformat_minor": 5
}
