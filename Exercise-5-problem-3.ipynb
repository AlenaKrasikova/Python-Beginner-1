{
 "cells": [
  {
   "cell_type": "markdown",
   "metadata": {
    "deletable": false,
    "editable": false,
    "nbgrader": {
     "cell_type": "markdown",
     "checksum": "5c80a2a9de6cb49c29a435c2524fb4a6",
     "grade": false,
     "grade_id": "Intro_text",
     "locked": true,
     "schema_version": 3,
     "solution": false
    }
   },
   "source": [
    "## Задача 3 - Анализ данных\n",
    "\n",
    "В этой задаче мы рассмотрим наши данные о температуре, сравнивая измерения в Кумпула и Рованими. Для этого мы будем использовать условия для извлечения подмножества наших данных, а затем анализировать эти подмножества с использованием основных функций pandas. Пожалуйста, выполните задания ниже, записав свой код в кодовые ячейки в каждом разделе.\n",
    "\n",
    "### Советы по выполнению упражнения\n",
    "\n",
    "- Используйте **в точности** те же имена переменных, что и в инструкциях, потому что ваши ответы будут автоматически оценены, и тесты, которые оценивают ваши ответы, зависят от того же форматирования или именования переменных, что и в инструкциях.\n",
    "\n",
    "- **Пожалуйста**,\n",
    "\n",
    "    - **Не изменяйте имена файлов**. Сделайте всю работу в файле `Exercise-5-problem-3.ipynb` (этом файле).\n",
    "    - **Не копируйте/вставляйте ячейки в этом блокноте**. Мы используем автоматизированную систему оценки, которая не будет работать, если есть копии кодовых ячеек.\n",
    "    - **Не изменяйте типы ячеек**. Вы можете добавить ячейки, но изменение типов ячеек для существующих ячеек (например, c кода на Markdown) также приведет к выходу из строя автоматизированной проверки.\n",
    "\n",
    "### Условия успешного выполнения задания\n",
    "\n",
    "- Расчет средней температуры для Хельсинки Кумпула и Рованиими на лето 2017 года\n",
    "- Выборка температуры на май и июнь 2017 года в отдельные наборы данных для каждого местоположения\n",
    "- Печать некоторых сводных значений за каждый месяц (май, июнь) и местоположение (Кумпула, Рованиеми)\n",
    "- Добавление комментарии, которые объясняют, что делают большинство строк в коде\n",
    "- Ответы на пару вопросов в конце задания\n",
    "- Загрузка вашего блокнота в репозиторий "
   ]
  },
  {
   "cell_type": "markdown",
   "metadata": {
    "deletable": false,
    "editable": false,
    "nbgrader": {
     "cell_type": "markdown",
     "checksum": "f44f543a21dd35544d34ed3ddf672997",
     "grade": false,
     "grade_id": "cell-a91a0ee92f8c4962",
     "locked": true,
     "schema_version": 3,
     "solution": false,
     "task": false
    },
    "tags": []
   },
   "source": [
    "## Соглашение об использовании ИИ\n",
    "\n",
    "**Введите свое имя в ячейку ниже** чтобы подтвердить, что вы следовали [принципам курса об использовании инструментов ИИ](https://geo-python-2024.readthedocs.io/ru/latest/course-info/ai-tools.html) и понимаете, что использование инструментов ИИ считается обманом."
   ]
  },
  {
   "cell_type": "markdown",
   "metadata": {
    "deletable": false,
    "nbgrader": {
     "cell_type": "markdown",
     "checksum": "3bb5d1793afe421eb01ccbafb4af6f83",
     "grade": true,
     "grade_id": "E5-P3-AI-LLM_statement",
     "locked": false,
     "points": 0,
     "schema_version": 3,
     "solution": true,
     "task": false
    },
    "tags": []
   },
   "source": [
    "Алена К."
   ]
  },
  {
   "cell_type": "markdown",
   "metadata": {
    "deletable": false,
    "editable": false,
    "nbgrader": {
     "cell_type": "markdown",
     "checksum": "1b6ab534a2cd475117b7d0016c7cf9f3",
     "grade": false,
     "grade_id": "cell-33c2d0518738c711",
     "locked": true,
     "schema_version": 3,
     "solution": false,
     "task": false
    }
   },
   "source": [
    "### Часть 1 \n",
    "\n",
    "Для начала вам нужно загрузить данные из задачи 2.\n",
    "\n",
    "- Загрузите данные из файлов CSV, полученных в задаче 2 в переменные `kumpula` и `rovaniemi`"
   ]
  },
  {
   "cell_type": "code",
   "execution_count": 1,
   "metadata": {
    "deletable": false,
    "nbgrader": {
     "cell_type": "code",
     "checksum": "deb603f4e6e03059689d01f3d8ca3044",
     "grade": false,
     "grade_id": "problem_3_ag_p1_read_data",
     "locked": false,
     "schema_version": 3,
     "solution": true
    }
   },
   "outputs": [],
   "source": [
    "kumpula = None\n",
    "rovaniemi = None\n",
    "\n",
    "# Импорт библиотеки pandas\n",
    "import pandas as pd\n",
    "# Загрузка данных из файлов с данными о температуре в мае-августе 2017 в Кумпула и Рованими\n",
    "kumpula = pd.read_csv('data/Kumpula_temps_May_Aug_2017.csv')\n",
    "rovaniemi = pd.read_csv('data/Rovaniemi_temps_May_Aug_2017.csv')"
   ]
  },
  {
   "cell_type": "code",
   "execution_count": 2,
   "metadata": {},
   "outputs": [
    {
     "name": "stdout",
     "output_type": "stream",
     "text": [
      "   Unnamed: 0   USAF  YR--MODAHRMN  TEMP  MAX  MIN  Celsius\n",
      "0        8770  29980  201705010000  37.0  NaN  NaN     2.78\n",
      "1        8771  29980  201705010100  37.0  NaN  NaN     2.78\n",
      "2        8772  29980  201705010200  37.0  NaN  NaN     2.78\n",
      "3        8773  29980  201705010300  37.0  NaN  NaN     2.78\n",
      "4        8774  29980  201705010400  39.0  NaN  NaN     3.89\n",
      "\n",
      "   Unnamed: 0   USAF  YR--MODAHRMN  TEMP  MAX  MIN  Celsius\n",
      "0           0  28450  201705010000  31.0  NaN  NaN    -0.56\n",
      "1           1  28450  201705010020  30.0  NaN  NaN    -1.11\n",
      "2           2  28450  201705010050  30.0  NaN  NaN    -1.11\n",
      "3           3  28450  201705010100  31.0  NaN  NaN    -0.56\n",
      "4           4  28450  201705010120  30.0  NaN  NaN    -1.11\n"
     ]
    }
   ],
   "source": [
    "print(kumpula.head())\n",
    "print(\"\")\n",
    "print(rovaniemi.head())"
   ]
  },
  {
   "cell_type": "markdown",
   "metadata": {
    "deletable": false,
    "editable": false,
    "nbgrader": {
     "cell_type": "markdown",
     "checksum": "a5318107021b10fe1830ba30bcc46e89",
     "grade": false,
     "grade_id": "cell-c25a29efbcf77ee7",
     "locked": true,
     "schema_version": 3,
     "solution": false,
     "task": false
    }
   },
   "source": [
    "### Часть 2 \n",
    "\n",
    "Теперь вы можете найти *медиану температуры* за период, который охватывает данные.\n",
    "\n",
    "- Какова была медиана температуры в Цельсиях в течение наблюдаемого периода в:\n",
    "    - Хельсинки Кумпула? (сохраните ответ в переменной `kumpula_median`)\n",
    "    - Рованиеми? (сохраните ответ в переменной `rovaniemi_median`)"
   ]
  },
  {
   "cell_type": "code",
   "execution_count": 3,
   "metadata": {
    "deletable": false,
    "nbgrader": {
     "cell_type": "code",
     "checksum": "975856c4e5d377c3aaabec3af0fe53da",
     "grade": false,
     "grade_id": "problem_3_ag_p2_median",
     "locked": false,
     "schema_version": 3,
     "solution": true
    }
   },
   "outputs": [],
   "source": [
    "kumpula_median = None\n",
    "rovaniemi_median = None\n",
    "\n",
    "# Нахождение и запись медианной температуры в Цельсиях в Кумпула и Рованиеми \n",
    "# в переменных kumpula_median и rovaniemi_median соответственно\n",
    "kumpula_median = kumpula['Celsius'].median()\n",
    "rovaniemi_median = rovaniemi['Celsius'].median()"
   ]
  },
  {
   "cell_type": "code",
   "execution_count": 4,
   "metadata": {
    "deletable": false,
    "editable": false,
    "nbgrader": {
     "cell_type": "code",
     "checksum": "c74731bd13e85d92c4c9c1b77dabc589",
     "grade": true,
     "grade_id": "problem_3_ag_p2_median_test",
     "locked": true,
     "points": 1,
     "schema_version": 3,
     "solution": false
    }
   },
   "outputs": [
    {
     "name": "stdout",
     "output_type": "stream",
     "text": [
      "Медиана по Кумпула: 14.44\n",
      "Медиана по Рованиеми: 11.11\n"
     ]
    }
   ],
   "source": [
    "# Отпечатает среднюю температуру\n",
    "print(f\"Медиана по Кумпула: {kumpula_median}\")\n",
    "print(f\"Медиана по Рованиеми: {rovaniemi_median}\")\n"
   ]
  },
  {
   "cell_type": "markdown",
   "metadata": {
    "deletable": false,
    "editable": false,
    "nbgrader": {
     "cell_type": "markdown",
     "checksum": "e78788aaa693f3cbdff98a364cf9b494",
     "grade": false,
     "grade_id": "cell-6eda08b036b421d9",
     "locked": true,
     "schema_version": 3,
     "solution": false,
     "task": false
    }
   },
   "source": [
    "### Часть 3 \n",
    "\n",
    "Медианы температур выше рассматриваются данные за все лето (май-август), следовательно, различия могут быть не так ясны. Давайте теперь найдем *среднюю температуру* с мая и июня 2017 года в Кумпуле и Ровании.\n",
    "\n",
    "- Из объектов DataFrames `kumpula` и `rovaniemi` выберите строки, где значения `YR--MODAHRMN` относятся к маю 2017 года\n",
    "    - Назначьте эти выбранные строки переменным `kumpula_may` и `rovaniemi_may` (посмотрите [подсказки](https://geo-python.github.io/site/lessons/L5/exercise-5.html) для помощи!)\n",
    "- Повторите процедуру для июня месяца и назначить эти значения переменным `kumpula_june` и `rovaniemi_june`"
   ]
  },
  {
   "cell_type": "code",
   "execution_count": 5,
   "metadata": {
    "deletable": false,
    "nbgrader": {
     "cell_type": "code",
     "checksum": "e658e48c072ada99e4541860ebaf0095",
     "grade": false,
     "grade_id": "problem_3_ag_p3_may",
     "locked": false,
     "schema_version": 3,
     "solution": true
    }
   },
   "outputs": [],
   "source": [
    "# Выберите подмножество данных Kumpula и Rovaniemi за 5-й и 6-й месяц\n",
    "kumpula_may = None\n",
    "rovaniemi_may = None\n",
    "\n",
    "kumpula_june = None\n",
    "rovaniemi_june = None\n",
    "\n",
    "# Выборка и сохранение данных температуры за май 2017 в Кумпуле - kumpula_may и Ровании - rovaniemi_may\n",
    "kumpula_may = kumpula.loc[(kumpula['YR--MODAHRMN'] >= 201705010000) & (kumpula['YR--MODAHRMN'] < 201706010000)]\n",
    "rovaniemi_may = rovaniemi.loc[(rovaniemi['YR--MODAHRMN'] >= 201705010000) & (rovaniemi['YR--MODAHRMN'] < 201706010000)]\n",
    "\n",
    "# Выборка данных температуры за июнь 2017 в Кумпуле - kumpula_june и Ровании - rovaniemi_june\n",
    "kumpula_june = kumpula.loc[(kumpula['YR--MODAHRMN'] >= 201706010000) & (kumpula['YR--MODAHRMN'] < 201707010000)]\n",
    "rovaniemi_june = rovaniemi.loc[(rovaniemi['YR--MODAHRMN'] >= 201706010000) & (rovaniemi['YR--MODAHRMN'] < 201707010000)]"
   ]
  },
  {
   "cell_type": "markdown",
   "metadata": {
    "deletable": false,
    "editable": false,
    "nbgrader": {
     "cell_type": "markdown",
     "checksum": "ced113a7a44f6c3bc88de58a3dc62056",
     "grade": false,
     "grade_id": "cell-c20a16ae3d1442cb",
     "locked": true,
     "schema_version": 3,
     "solution": false,
     "task": false
    }
   },
   "source": [
    "Убедитесь, что подмножества выглядят нормально:"
   ]
  },
  {
   "cell_type": "code",
   "execution_count": 6,
   "metadata": {
    "deletable": false,
    "editable": false,
    "nbgrader": {
     "cell_type": "code",
     "checksum": "2b46b5ac73b0c1ecdec568ab8da5f07d",
     "grade": true,
     "grade_id": "problem_3_ag_p3_Kumpula_may_test",
     "locked": true,
     "points": 0.5,
     "schema_version": 3,
     "solution": false
    }
   },
   "outputs": [
    {
     "name": "stdout",
     "output_type": "stream",
     "text": [
      "Первые значения в мае, Кумпула:\n",
      "   Unnamed: 0   USAF  YR--MODAHRMN  TEMP  MAX  MIN  Celsius\n",
      "0        8770  29980  201705010000  37.0  NaN  NaN     2.78\n",
      "1        8771  29980  201705010100  37.0  NaN  NaN     2.78\n",
      "2        8772  29980  201705010200  37.0  NaN  NaN     2.78\n",
      "3        8773  29980  201705010300  37.0  NaN  NaN     2.78\n",
      "4        8774  29980  201705010400  39.0  NaN  NaN     3.89\n",
      "\n",
      "Последние значения в мае, Кумпула:\n",
      "     Unnamed: 0   USAF  YR--MODAHRMN  TEMP  MAX  MIN  Celsius\n",
      "736        9506  29980  201705311900  51.0  NaN  NaN    10.56\n",
      "737        9507  29980  201705312000  50.0  NaN  NaN    10.00\n",
      "738        9508  29980  201705312100  47.0  NaN  NaN     8.33\n",
      "739        9509  29980  201705312200  44.0  NaN  NaN     6.67\n",
      "740        9510  29980  201705312300  43.0  NaN  NaN     6.11\n"
     ]
    }
   ],
   "source": [
    "print(f\"Первые значения в мае, Кумпула:\\n{kumpula_may.head()}\\n\")\n",
    "print(f\"Последние значения в мае, Кумпула:\\n{kumpula_may.tail()}\")"
   ]
  },
  {
   "cell_type": "code",
   "execution_count": 7,
   "metadata": {
    "deletable": false,
    "editable": false,
    "nbgrader": {
     "cell_type": "code",
     "checksum": "e4d83fa396f745a05cfd902c4107fc23",
     "grade": true,
     "grade_id": "problem_3_ag_p3_Kumpula_june_test",
     "locked": true,
     "points": 0.5,
     "schema_version": 3,
     "solution": false,
     "task": false
    }
   },
   "outputs": [
    {
     "name": "stdout",
     "output_type": "stream",
     "text": [
      "Первые значения в июне, Кумпула:\n",
      "     Unnamed: 0   USAF  YR--MODAHRMN  TEMP  MAX  MIN  Celsius\n",
      "741        9511  29980  201706010000  42.0  NaN  NaN     5.56\n",
      "742        9512  29980  201706010100  40.0  NaN  NaN     4.44\n",
      "743        9513  29980  201706010200  40.0  NaN  NaN     4.44\n",
      "744        9514  29980  201706010300  41.0  NaN  NaN     5.00\n",
      "745        9515  29980  201706010400  44.0  NaN  NaN     6.67\n",
      "\n",
      "Последние значения в июне, Кумпула:\n",
      "      Unnamed: 0   USAF  YR--MODAHRMN  TEMP  MAX  MIN  Celsius\n",
      "1450       10220  29980  201706301900  65.0  NaN  NaN    18.33\n",
      "1451       10221  29980  201706302000  61.0  NaN  NaN    16.11\n",
      "1452       10222  29980  201706302100  63.0  NaN  NaN    17.22\n",
      "1453       10223  29980  201706302200  62.0  NaN  NaN    16.67\n",
      "1454       10224  29980  201706302300  61.0  NaN  NaN    16.11\n"
     ]
    }
   ],
   "source": [
    "print(f\"Первые значения в июне, Кумпула:\\n{kumpula_june.head()}\\n\")\n",
    "print(f\"Последние значения в июне, Кумпула:\\n{kumpula_june.tail()}\")"
   ]
  },
  {
   "cell_type": "code",
   "execution_count": 8,
   "metadata": {
    "deletable": false,
    "editable": false,
    "nbgrader": {
     "cell_type": "code",
     "checksum": "227099ba97029cbeb597834860f637b2",
     "grade": true,
     "grade_id": "problem_3_ag_p3_Rovaniemi_may_test",
     "locked": true,
     "points": 0.5,
     "schema_version": 3,
     "solution": false
    }
   },
   "outputs": [
    {
     "name": "stdout",
     "output_type": "stream",
     "text": [
      "Первые значения в мае, Рованииеми:\n",
      "   Unnamed: 0   USAF  YR--MODAHRMN  TEMP  MAX  MIN  Celsius\n",
      "0           0  28450  201705010000  31.0  NaN  NaN    -0.56\n",
      "1           1  28450  201705010020  30.0  NaN  NaN    -1.11\n",
      "2           2  28450  201705010050  30.0  NaN  NaN    -1.11\n",
      "3           3  28450  201705010100  31.0  NaN  NaN    -0.56\n",
      "4           4  28450  201705010120  30.0  NaN  NaN    -1.11\n",
      "\n",
      "Последние значения в мае, Рованииеми:\n",
      "      Unnamed: 0   USAF  YR--MODAHRMN  TEMP  MAX  MIN  Celsius\n",
      "2217        2217  28450  201705312220  32.0  NaN  NaN     0.00\n",
      "2218        2218  28450  201705312250  32.0  NaN  NaN     0.00\n",
      "2219        2219  28450  201705312300  33.0  NaN  NaN     0.56\n",
      "2220        2220  28450  201705312320  32.0  NaN  NaN     0.00\n",
      "2221        2221  28450  201705312350  30.0  NaN  NaN    -1.11\n"
     ]
    }
   ],
   "source": [
    "print(f\"Первые значения в мае, Рованииеми:\\n{rovaniemi_may.head()}\\n\")\n",
    "print(f\"Последние значения в мае, Рованииеми:\\n{rovaniemi_may.tail()}\")"
   ]
  },
  {
   "cell_type": "code",
   "execution_count": 9,
   "metadata": {
    "deletable": false,
    "editable": false,
    "nbgrader": {
     "cell_type": "code",
     "checksum": "b1479509bbe424439169f91d57fa1c54",
     "grade": true,
     "grade_id": "problem_3_ag_p3_Rovaniemi_june_test",
     "locked": true,
     "points": 0.5,
     "schema_version": 3,
     "solution": false,
     "task": false
    }
   },
   "outputs": [
    {
     "name": "stdout",
     "output_type": "stream",
     "text": [
      "Первые значения в июне, Рованииеми:\n",
      "      Unnamed: 0   USAF  YR--MODAHRMN  TEMP  MAX  MIN  Celsius\n",
      "2222        2222  28450  201706010000  32.0  NaN  NaN     0.00\n",
      "2223        2223  28450  201706010020  30.0  NaN  NaN    -1.11\n",
      "2224        2224  28450  201706010050  30.0  NaN  NaN    -1.11\n",
      "2225        2225  28450  201706010100  31.0  NaN  NaN    -0.56\n",
      "2226        2226  28450  201706010120  30.0  NaN  NaN    -1.11\n",
      "\n",
      "Последние значения в июне, Рованииеми:\n",
      "      Unnamed: 0   USAF  YR--MODAHRMN  TEMP  MAX  MIN  Celsius\n",
      "4344        4344  28450  201706302220  57.0  NaN  NaN    13.89\n",
      "4345        4345  28450  201706302250  57.0  NaN  NaN    13.89\n",
      "4346        4346  28450  201706302300  56.0  NaN  NaN    13.33\n",
      "4347        4347  28450  201706302320  57.0  NaN  NaN    13.89\n",
      "4348        4348  28450  201706302350  57.0  NaN  NaN    13.89\n"
     ]
    }
   ],
   "source": [
    "print(f\"Первые значения в июне, Рованииеми:\\n{rovaniemi_june.head()}\\n\")\n",
    "print(f\"Последние значения в июне, Рованииеми:\\n{rovaniemi_june.tail()}\")"
   ]
  },
  {
   "cell_type": "markdown",
   "metadata": {
    "deletable": false,
    "editable": false,
    "nbgrader": {
     "cell_type": "markdown",
     "checksum": "a65a68a4bf3075ccc9de3bb5ce5266c1",
     "grade": false,
     "grade_id": "cell-5d735e872f16ccd5",
     "locked": true,
     "schema_version": 3,
     "solution": false,
     "task": false
    }
   },
   "source": [
    "### Часть 4\n",
    "\n",
    "Теперь вы можете облегчить сравнение данных о температуре как по местам, так и по месяцам, распечатав несколько значений.\n",
    "\n",
    "- Используйте функцию `print ()`, чтобы показать среднюю, минимальную и максимальную температуры в Цельсиях для обоих мест в мае и июне, используя новые подмножества данных (`kumpula_may`, `rovaniemi_may`, `kumpula_june`, and `rovaniemi_june`)."
   ]
  },
  {
   "cell_type": "code",
   "execution_count": 10,
   "metadata": {
    "deletable": false,
    "nbgrader": {
     "cell_type": "code",
     "checksum": "12a6c95dd173d219530d35b72f81490f",
     "grade": true,
     "grade_id": "problem_3_mg_p4_May_and_June_stats",
     "locked": false,
     "points": 1,
     "schema_version": 3,
     "solution": true
    }
   },
   "outputs": [
    {
     "name": "stdout",
     "output_type": "stream",
     "text": [
      "Cредняя температура в Кумпула в мае - 9.76 градусов по Цельсию.\n",
      "Минимальная температура в Кумпула в мае - -2.22 градусов по Цельсию.\n",
      "Максимальная температура в Кумпула в мае - 22.78 градусов по Цельсию.\n",
      "\n",
      "Cредняя температура в Рованииеми в мае - 2.99 градусов по Цельсию.\n",
      "Минимальная температура в Рованииеми в мае - -7.22 градусов по Цельсию.\n",
      "Максимальная температура в Рованииеми в мае - 15.00 градусов по Цельсию.\n",
      "\n",
      "Cредняя температура в Кумпула в июне - 13.74 градусов по Цельсию.\n",
      "Минимальная температура в Кумпула в июне - 2.78 градусов по Цельсию.\n",
      "Максимальная температура в Кумпула в июне - 23.89 градусов по Цельсию.\n",
      "\n",
      "Cредняя температура в Рованииеми в июне - 11.02 градусов по Цельсию.\n",
      "Минимальная температура в Рованииеми в июне - -1.11 градусов по Цельсию.\n",
      "Максимальная температура в Рованииеми в июне - 23.33 градусов по Цельсию.\n"
     ]
    }
   ],
   "source": [
    "# Средняя, минимальная и максимальная температура в Цельсиях в мае в Кумпула\n",
    "print(f\"Cредняя температура в Кумпула в мае - {kumpula_may['Celsius'].mean():.2f} градусов по Цельсию.\")\n",
    "print(f\"Минимальная температура в Кумпула в мае - {kumpula_may['Celsius'].min():.2f} градусов по Цельсию.\")\n",
    "print(f\"Максимальная температура в Кумпула в мае - {kumpula_may['Celsius'].max():.2f} градусов по Цельсию.\")\n",
    "print()\n",
    "# Средняя, минимальная и максимальная температура в Цельсиях в мае в Рованииеми\n",
    "print(f\"Cредняя температура в Рованииеми в мае - {rovaniemi_may['Celsius'].mean():.2f} градусов по Цельсию.\")\n",
    "print(f\"Минимальная температура в Рованииеми в мае - {rovaniemi_may['Celsius'].min():.2f} градусов по Цельсию.\")\n",
    "print(f\"Максимальная температура в Рованииеми в мае - {rovaniemi_may['Celsius'].max():.2f} градусов по Цельсию.\")\n",
    "print()\n",
    "# Средняя, минимальная и максимальная температура в Цельсиях в июне в Кумпула\n",
    "print(f\"Cредняя температура в Кумпула в июне - {kumpula_june['Celsius'].mean():.2f} градусов по Цельсию.\")\n",
    "print(f\"Минимальная температура в Кумпула в июне - {kumpula_june['Celsius'].min():.2f} градусов по Цельсию.\")\n",
    "print(f\"Максимальная температура в Кумпула в июне - {kumpula_june['Celsius'].max():.2f} градусов по Цельсию.\")\n",
    "print()\n",
    "# Средняя, минимальная и максимальная температура в Цельсиях в июне в Рованииеми\n",
    "print(f\"Cредняя температура в Рованииеми в июне - {rovaniemi_june['Celsius'].mean():.2f} градусов по Цельсию.\")\n",
    "print(f\"Минимальная температура в Рованииеми в июне - {rovaniemi_june['Celsius'].min():.2f} градусов по Цельсию.\")\n",
    "print(f\"Максимальная температура в Рованииеми в июне - {rovaniemi_june['Celsius'].max():.2f} градусов по Цельсию.\")"
   ]
  },
  {
   "cell_type": "markdown",
   "metadata": {
    "deletable": false,
    "editable": false,
    "nbgrader": {
     "cell_type": "markdown",
     "checksum": "c19a758e3ace532979854894a73433a0",
     "grade": false,
     "grade_id": "comments",
     "locked": true,
     "schema_version": 3,
     "solution": false
    }
   },
   "source": [
    "### Подитог\n",
    "\n",
    "В духе [открытия знаний](http://researcher.ibm.com/researcher/view_group.php?id=144), давайте кратко интерпретируем результаты анализа данных в задаче 3. Пожалуйста, ответьте на следующие вопросы на основе результатов анализа данных из этой задачи:\n",
    "\n",
    "- Существует ли значимая разница в температуре между месяцами?\n",
    "- Холоднее ли в Рованииеми, чем в Кумпула?\n",
    "\n",
    "Также обязательно:\n",
    "\n",
    "- Убедитесь, что ваш код включает информативные комментарии, объясняющие, что делает ваш код\n",
    "- Опубликуйте свои изменения в репозиторий для упражнения 5"
   ]
  },
  {
   "cell_type": "markdown",
   "metadata": {
    "deletable": false,
    "nbgrader": {
     "cell_type": "markdown",
     "checksum": "1f0848d8fe16e12f1951ccdd1b5edf83",
     "grade": true,
     "grade_id": "problem_3_mg_p5_questions",
     "locked": false,
     "points": 0,
     "schema_version": 3,
     "solution": true,
     "task": false
    }
   },
   "source": [
    "* В среднем между месяцами есть значимая разница: средняя температура в мае холоднее средней температуры в июне, особенно в Рованииеми.\n",
    "* Да, в мае средняя температура в Рованииеми холоднее на 6,77 градусов по Цельсию, в июне - на 2,72 градуса по Цельсию.\n",
    "\n",
    "Ссылка на [открытия знаний](http://researcher.ibm.com/researcher/view_group.php?id=144) выдает ошибку."
   ]
  },
  {
   "cell_type": "markdown",
   "metadata": {
    "deletable": false,
    "editable": false,
    "nbgrader": {
     "cell_type": "markdown",
     "checksum": "0e5f52b74f4ffaea57ca77ace2732647",
     "grade": false,
     "grade_id": "text",
     "locked": true,
     "schema_version": 3,
     "solution": false
    }
   },
   "source": [
    "### К задаче 4 (*необязательно*)\n",
    "\n",
    "Теперь вы можете перейти к *необязательной* [Задаче 4: агрегация данных](Exercise-5-problem-4.ipynb)"
   ]
  }
 ],
 "metadata": {
  "anaconda-cloud": {},
  "kernelspec": {
   "display_name": "Python 3 (ipykernel)",
   "language": "python",
   "name": "python3"
  },
  "language_info": {
   "codemirror_mode": {
    "name": "ipython",
    "version": 3
   },
   "file_extension": ".py",
   "mimetype": "text/x-python",
   "name": "python",
   "nbconvert_exporter": "python",
   "pygments_lexer": "ipython3",
   "version": "3.8.19"
  }
 },
 "nbformat": 4,
 "nbformat_minor": 4
}
